{
 "cells": [
  {
   "cell_type": "markdown",
   "metadata": {},
   "source": [
    "https://data.cityofnewyork.us/Environment/2015-Street-Tree-Census-Tree-Data/pi5s-9p35\n",
    "\n",
    "nonprofit in nyc to optimize the tree coverage in the city, predict whether there is a tree in an area, and whether or not it needs to be replanted\n",
    "\n",
    "1. binary classification: predict whether a tree is alive or \"needs to be replanted\" (dead/stump) classifying column `treedf['status']`\n",
    "2. factors TBD: join the buildings dataset to determine how many residential units are \"near\" the tree\n",
    "3. "
   ]
  },
  {
   "cell_type": "code",
   "execution_count": 1,
   "metadata": {},
   "outputs": [],
   "source": [
    "#standard packages to import\n",
    "import pandas as pd\n",
    "import os\n",
    "import numpy as np\n",
    "import scipy.stats as stats\n",
    "#import statsmodels.api as sm\n",
    "import seaborn as sns\n",
    "import matplotlib.pyplot as plt\n",
    "%matplotlib inline\n",
    "\n",
    "#sklearn modules\n",
    "from sklearn.metrics import log_loss, confusion_matrix, accuracy_score, recall_score, precision_score\n",
    "from sklearn.linear_model import LogisticRegression\n",
    "from sklearn.model_selection import train_test_split, cross_validate\n",
    "from sklearn.preprocessing import StandardScaler, OneHotEncoder, LabelEncoder\n",
    "from sklearn.tree import DecisionTreeClassifier, plot_tree\n",
    "from imblearn.over_sampling import SMOTE\n",
    "from sklearn.utils import resample\n"
   ]
  },
  {
   "cell_type": "code",
   "execution_count": 2,
   "metadata": {},
   "outputs": [],
   "source": [
    "#nycdf = pd.read_csv('data/pluto.csv')\n",
    "treedf = pd.read_csv('data/2015StreetTreesCensus_TREES.csv')"
   ]
  },
  {
   "cell_type": "code",
   "execution_count": 3,
   "metadata": {},
   "outputs": [
    {
     "data": {
      "text/html": [
       "<div>\n",
       "<style scoped>\n",
       "    .dataframe tbody tr th:only-of-type {\n",
       "        vertical-align: middle;\n",
       "    }\n",
       "\n",
       "    .dataframe tbody tr th {\n",
       "        vertical-align: top;\n",
       "    }\n",
       "\n",
       "    .dataframe thead th {\n",
       "        text-align: right;\n",
       "    }\n",
       "</style>\n",
       "<table border=\"1\" class=\"dataframe\">\n",
       "  <thead>\n",
       "    <tr style=\"text-align: right;\">\n",
       "      <th></th>\n",
       "      <th>created_at</th>\n",
       "      <th>tree_id</th>\n",
       "      <th>block_id</th>\n",
       "      <th>the_geom</th>\n",
       "      <th>tree_dbh</th>\n",
       "      <th>stump_diam</th>\n",
       "      <th>curb_loc</th>\n",
       "      <th>status</th>\n",
       "      <th>health</th>\n",
       "      <th>spc_latin</th>\n",
       "      <th>...</th>\n",
       "      <th>st_assem</th>\n",
       "      <th>st_senate</th>\n",
       "      <th>nta</th>\n",
       "      <th>nta_name</th>\n",
       "      <th>boro_ct</th>\n",
       "      <th>state</th>\n",
       "      <th>Latitude</th>\n",
       "      <th>longitude</th>\n",
       "      <th>x_sp</th>\n",
       "      <th>y_sp</th>\n",
       "    </tr>\n",
       "  </thead>\n",
       "  <tbody>\n",
       "    <tr>\n",
       "      <th>0</th>\n",
       "      <td>08/27/2015</td>\n",
       "      <td>180683</td>\n",
       "      <td>348711</td>\n",
       "      <td>POINT (-73.84421521958048 40.723091773924274)</td>\n",
       "      <td>3</td>\n",
       "      <td>0</td>\n",
       "      <td>OnCurb</td>\n",
       "      <td>Alive</td>\n",
       "      <td>Fair</td>\n",
       "      <td>Acer rubrum</td>\n",
       "      <td>...</td>\n",
       "      <td>28</td>\n",
       "      <td>16</td>\n",
       "      <td>QN17</td>\n",
       "      <td>Forest Hills</td>\n",
       "      <td>4073900</td>\n",
       "      <td>New York</td>\n",
       "      <td>40.723092</td>\n",
       "      <td>-73.844215</td>\n",
       "      <td>1.027431e+06</td>\n",
       "      <td>202756.768749</td>\n",
       "    </tr>\n",
       "    <tr>\n",
       "      <th>1</th>\n",
       "      <td>09/03/2015</td>\n",
       "      <td>200540</td>\n",
       "      <td>315986</td>\n",
       "      <td>POINT (-73.81867945834878 40.79411066708779)</td>\n",
       "      <td>21</td>\n",
       "      <td>0</td>\n",
       "      <td>OnCurb</td>\n",
       "      <td>Alive</td>\n",
       "      <td>Fair</td>\n",
       "      <td>Quercus palustris</td>\n",
       "      <td>...</td>\n",
       "      <td>27</td>\n",
       "      <td>11</td>\n",
       "      <td>QN49</td>\n",
       "      <td>Whitestone</td>\n",
       "      <td>4097300</td>\n",
       "      <td>New York</td>\n",
       "      <td>40.794111</td>\n",
       "      <td>-73.818679</td>\n",
       "      <td>1.034456e+06</td>\n",
       "      <td>228644.837379</td>\n",
       "    </tr>\n",
       "    <tr>\n",
       "      <th>2</th>\n",
       "      <td>09/05/2015</td>\n",
       "      <td>204026</td>\n",
       "      <td>218365</td>\n",
       "      <td>POINT (-73.93660770459083 40.717580740099116)</td>\n",
       "      <td>3</td>\n",
       "      <td>0</td>\n",
       "      <td>OnCurb</td>\n",
       "      <td>Alive</td>\n",
       "      <td>Good</td>\n",
       "      <td>Gleditsia triacanthos var. inermis</td>\n",
       "      <td>...</td>\n",
       "      <td>50</td>\n",
       "      <td>18</td>\n",
       "      <td>BK90</td>\n",
       "      <td>East Williamsburg</td>\n",
       "      <td>3044900</td>\n",
       "      <td>New York</td>\n",
       "      <td>40.717581</td>\n",
       "      <td>-73.936608</td>\n",
       "      <td>1.001823e+06</td>\n",
       "      <td>200716.891267</td>\n",
       "    </tr>\n",
       "    <tr>\n",
       "      <th>3</th>\n",
       "      <td>09/05/2015</td>\n",
       "      <td>204337</td>\n",
       "      <td>217969</td>\n",
       "      <td>POINT (-73.93445615919741 40.713537494833226)</td>\n",
       "      <td>10</td>\n",
       "      <td>0</td>\n",
       "      <td>OnCurb</td>\n",
       "      <td>Alive</td>\n",
       "      <td>Good</td>\n",
       "      <td>Gleditsia triacanthos var. inermis</td>\n",
       "      <td>...</td>\n",
       "      <td>53</td>\n",
       "      <td>18</td>\n",
       "      <td>BK90</td>\n",
       "      <td>East Williamsburg</td>\n",
       "      <td>3044900</td>\n",
       "      <td>New York</td>\n",
       "      <td>40.713537</td>\n",
       "      <td>-73.934456</td>\n",
       "      <td>1.002420e+06</td>\n",
       "      <td>199244.253136</td>\n",
       "    </tr>\n",
       "    <tr>\n",
       "      <th>4</th>\n",
       "      <td>08/30/2015</td>\n",
       "      <td>189565</td>\n",
       "      <td>223043</td>\n",
       "      <td>POINT (-73.97597938483258 40.66677775537875)</td>\n",
       "      <td>21</td>\n",
       "      <td>0</td>\n",
       "      <td>OnCurb</td>\n",
       "      <td>Alive</td>\n",
       "      <td>Good</td>\n",
       "      <td>Tilia americana</td>\n",
       "      <td>...</td>\n",
       "      <td>44</td>\n",
       "      <td>21</td>\n",
       "      <td>BK37</td>\n",
       "      <td>Park Slope-Gowanus</td>\n",
       "      <td>3016500</td>\n",
       "      <td>New York</td>\n",
       "      <td>40.666778</td>\n",
       "      <td>-73.975979</td>\n",
       "      <td>9.909138e+05</td>\n",
       "      <td>182202.425999</td>\n",
       "    </tr>\n",
       "  </tbody>\n",
       "</table>\n",
       "<p>5 rows × 42 columns</p>\n",
       "</div>"
      ],
      "text/plain": [
       "   created_at  tree_id  block_id  \\\n",
       "0  08/27/2015   180683    348711   \n",
       "1  09/03/2015   200540    315986   \n",
       "2  09/05/2015   204026    218365   \n",
       "3  09/05/2015   204337    217969   \n",
       "4  08/30/2015   189565    223043   \n",
       "\n",
       "                                        the_geom  tree_dbh  stump_diam  \\\n",
       "0  POINT (-73.84421521958048 40.723091773924274)         3           0   \n",
       "1   POINT (-73.81867945834878 40.79411066708779)        21           0   \n",
       "2  POINT (-73.93660770459083 40.717580740099116)         3           0   \n",
       "3  POINT (-73.93445615919741 40.713537494833226)        10           0   \n",
       "4   POINT (-73.97597938483258 40.66677775537875)        21           0   \n",
       "\n",
       "  curb_loc status health                           spc_latin  ... st_assem  \\\n",
       "0   OnCurb  Alive   Fair                         Acer rubrum  ...       28   \n",
       "1   OnCurb  Alive   Fair                   Quercus palustris  ...       27   \n",
       "2   OnCurb  Alive   Good  Gleditsia triacanthos var. inermis  ...       50   \n",
       "3   OnCurb  Alive   Good  Gleditsia triacanthos var. inermis  ...       53   \n",
       "4   OnCurb  Alive   Good                     Tilia americana  ...       44   \n",
       "\n",
       "  st_senate   nta            nta_name  boro_ct     state   Latitude  \\\n",
       "0        16  QN17        Forest Hills  4073900  New York  40.723092   \n",
       "1        11  QN49          Whitestone  4097300  New York  40.794111   \n",
       "2        18  BK90   East Williamsburg  3044900  New York  40.717581   \n",
       "3        18  BK90   East Williamsburg  3044900  New York  40.713537   \n",
       "4        21  BK37  Park Slope-Gowanus  3016500  New York  40.666778   \n",
       "\n",
       "   longitude          x_sp           y_sp  \n",
       "0 -73.844215  1.027431e+06  202756.768749  \n",
       "1 -73.818679  1.034456e+06  228644.837379  \n",
       "2 -73.936608  1.001823e+06  200716.891267  \n",
       "3 -73.934456  1.002420e+06  199244.253136  \n",
       "4 -73.975979  9.909138e+05  182202.425999  \n",
       "\n",
       "[5 rows x 42 columns]"
      ]
     },
     "execution_count": 3,
     "metadata": {},
     "output_type": "execute_result"
    }
   ],
   "source": [
    "treedf.head()"
   ]
  },
  {
   "cell_type": "code",
   "execution_count": 4,
   "metadata": {},
   "outputs": [
    {
     "name": "stdout",
     "output_type": "stream",
     "text": [
      "<class 'pandas.core.frame.DataFrame'>\n",
      "RangeIndex: 683788 entries, 0 to 683787\n",
      "Data columns (total 42 columns):\n",
      " #   Column      Non-Null Count   Dtype  \n",
      "---  ------      --------------   -----  \n",
      " 0   created_at  683788 non-null  object \n",
      " 1   tree_id     683788 non-null  int64  \n",
      " 2   block_id    683788 non-null  int64  \n",
      " 3   the_geom    683788 non-null  object \n",
      " 4   tree_dbh    683788 non-null  int64  \n",
      " 5   stump_diam  683788 non-null  int64  \n",
      " 6   curb_loc    683788 non-null  object \n",
      " 7   status      683788 non-null  object \n",
      " 8   health      652172 non-null  object \n",
      " 9   spc_latin   652169 non-null  object \n",
      " 10  spc_common  652169 non-null  object \n",
      " 11  steward     652173 non-null  object \n",
      " 12  guards      652172 non-null  object \n",
      " 13  sidewalk    652172 non-null  object \n",
      " 14  user_type   683788 non-null  object \n",
      " 15  problems    652124 non-null  object \n",
      " 16  root_stone  683788 non-null  object \n",
      " 17  root_grate  683788 non-null  object \n",
      " 18  root_other  683788 non-null  object \n",
      " 19  trnk_wire   683788 non-null  object \n",
      " 20  trnk_light  683788 non-null  object \n",
      " 21  trnk_other  683788 non-null  object \n",
      " 22  brnch_ligh  683788 non-null  object \n",
      " 23  brnch_shoe  683788 non-null  object \n",
      " 24  brnch_othe  683788 non-null  object \n",
      " 25  address     683788 non-null  object \n",
      " 26  zipcode     683788 non-null  int64  \n",
      " 27  zip_city    683788 non-null  object \n",
      " 28  cb_num      683788 non-null  int64  \n",
      " 29  borocode    683788 non-null  int64  \n",
      " 30  boroname    683788 non-null  object \n",
      " 31  cncldist    683788 non-null  int64  \n",
      " 32  st_assem    683788 non-null  int64  \n",
      " 33  st_senate   683788 non-null  int64  \n",
      " 34  nta         683788 non-null  object \n",
      " 35  nta_name    683788 non-null  object \n",
      " 36  boro_ct     683788 non-null  int64  \n",
      " 37  state       683788 non-null  object \n",
      " 38  Latitude    683788 non-null  float64\n",
      " 39  longitude   683788 non-null  float64\n",
      " 40  x_sp        683788 non-null  float64\n",
      " 41  y_sp        683788 non-null  float64\n",
      "dtypes: float64(4), int64(11), object(27)\n",
      "memory usage: 219.1+ MB\n"
     ]
    }
   ],
   "source": [
    "#other columns to be included in model:\n",
    "treedf.info()"
   ]
  },
  {
   "cell_type": "code",
   "execution_count": 5,
   "metadata": {},
   "outputs": [
    {
     "data": {
      "image/png": "[encoded data removed]",
      "text/plain": [
       "<Figure size 576x432 with 1 Axes>"
      ]
     },
     "metadata": {
      "needs_background": "light"
     },
     "output_type": "display_data"
    }
   ],
   "source": [
    "bardata = treedf['status'].value_counts()\n",
    "\n",
    "plt.figure(figsize=(8, 6))\n",
    "plt.bar(bardata.index, bardata.values, color='darkgreen')\n",
    "plt.xlabel('Life status')\n",
    "plt.ylabel('Count')\n",
    "plt.title('Life Status distribution')\n",
    "plt.show()"
   ]
  },
  {
   "cell_type": "code",
   "execution_count": 6,
   "metadata": {
    "scrolled": true
   },
   "outputs": [
    {
     "data": {
      "image/png": "[encoded data removed]",
      "text/plain": [
       "<Figure size 576x432 with 1 Axes>"
      ]
     },
     "metadata": {
      "needs_background": "light"
     },
     "output_type": "display_data"
    }
   ],
   "source": [
    "bardata2 = treedf['health'].value_counts()\n",
    "\n",
    "plt.figure(figsize=(8, 6))\n",
    "plt.bar(bardata2.index, bardata2.values, color='darkgreen')\n",
    "plt.xlabel('Health status')\n",
    "plt.ylabel('Count')\n",
    "plt.title('Health Status distribution')\n",
    "plt.show()"
   ]
  },
  {
   "cell_type": "code",
   "execution_count": 7,
   "metadata": {},
   "outputs": [],
   "source": [
    "treeprobsgraph = treedf['problems'].apply(lambda x: 'Normal' if x is None or x == 'None' else 'Problem identified')"
   ]
  },
  {
   "cell_type": "code",
   "execution_count": 8,
   "metadata": {},
   "outputs": [
    {
     "data": {
      "image/png": "[encoded data removed]",
      "text/plain": [
       "<Figure size 576x432 with 1 Axes>"
      ]
     },
     "metadata": {
      "needs_background": "light"
     },
     "output_type": "display_data"
    }
   ],
   "source": [
    "data3 = treeprobsgraph.value_counts()\n",
    "plt.figure(figsize=(8, 6))\n",
    "plt.bar(data3.index, data3.values, color='darkgreen')\n",
    "plt.xlabel('Status')\n",
    "plt.ylabel('Count')\n",
    "plt.title('Trees Indicating a Problem')\n",
    "plt.show()"
   ]
  },
  {
   "cell_type": "code",
   "execution_count": null,
   "metadata": {},
   "outputs": [],
   "source": []
  },
  {
   "cell_type": "markdown",
   "metadata": {},
   "source": [
    "## Processing the main dataframe for models"
   ]
  },
  {
   "cell_type": "code",
   "execution_count": 9,
   "metadata": {},
   "outputs": [
    {
     "data": {
      "text/plain": [
       "Alive    652173\n",
       "Stump     17654\n",
       "Dead      13961\n",
       "Name: status, dtype: int64"
      ]
     },
     "execution_count": 9,
     "metadata": {},
     "output_type": "execute_result"
    }
   ],
   "source": [
    "treedf['status'].value_counts()"
   ]
  },
  {
   "cell_type": "code",
   "execution_count": 10,
   "metadata": {},
   "outputs": [
    {
     "data": {
      "text/plain": [
       "None                                                                            426280\n",
       "Stones                                                                           95673\n",
       "BranchLights                                                                     29452\n",
       "Stones,BranchLights                                                              17808\n",
       "RootOther                                                                        11418\n",
       "                                                                                 ...  \n",
       "Stones,MetalGrates,WiresRope,TrunkLights,TrunkOther,BranchLights,BranchOther         1\n",
       "Stones,RootOther,WiresRope,BranchLights,Sneakers                                     1\n",
       "MetalGrates,TrunkOther,BranchLights,BranchOther                                      1\n",
       "MetalGrates,RootOther,TrunkLights,TrunkOther,BranchLights,BranchOther                1\n",
       "MetalGrates,RootOther,TrunkLights,TrunkOther,BranchOther                             1\n",
       "Name: problems, Length: 232, dtype: int64"
      ]
     },
     "execution_count": 10,
     "metadata": {},
     "output_type": "execute_result"
    }
   ],
   "source": [
    "treedf['problems'].value_counts()"
   ]
  },
  {
   "cell_type": "code",
   "execution_count": 11,
   "metadata": {
    "scrolled": true
   },
   "outputs": [],
   "source": [
    "#create a \"target\" column, 1 is tree is good, 0 is tree needs to be replaced\n",
    "treedf['target'] = treedf['status'].replace({'Alive': 1, 'Stump': 0, 'Dead': 0})\n",
    "\n",
    "#target column whether there is a problem with a tree:\n",
    "treedf['target_p'] = treedf['problems'].apply(lambda x: 0 if x is None or x == 'None' else 1)"
   ]
  },
  {
   "cell_type": "code",
   "execution_count": 12,
   "metadata": {},
   "outputs": [
    {
     "data": {
      "text/plain": [
       "1    652173\n",
       "0     31615\n",
       "Name: target, dtype: int64"
      ]
     },
     "execution_count": 12,
     "metadata": {},
     "output_type": "execute_result"
    }
   ],
   "source": [
    "treedf['target'].value_counts()"
   ]
  },
  {
   "cell_type": "code",
   "execution_count": 13,
   "metadata": {},
   "outputs": [
    {
     "data": {
      "text/plain": [
       "0    426280\n",
       "1    257508\n",
       "Name: target_p, dtype: int64"
      ]
     },
     "execution_count": 13,
     "metadata": {},
     "output_type": "execute_result"
    }
   ],
   "source": [
    "treedf['target_p'].value_counts()"
   ]
  },
  {
   "cell_type": "code",
   "execution_count": 14,
   "metadata": {},
   "outputs": [],
   "source": [
    "#manual imputing of the data - no need to keep it in original values:\n",
    "treedf['root_stone'] = treedf['root_stone'].replace({'Yes': 1, 'No': 0})\n",
    "treedf['root_grate'] = treedf['root_grate'].replace({'Yes': 1, 'No': 0})\n",
    "treedf['health'] = treedf['health'].replace({'Good': 3, 'Fair': 2, 'Poor': 1})"
   ]
  },
  {
   "cell_type": "code",
   "execution_count": 15,
   "metadata": {},
   "outputs": [
    {
     "data": {
      "image/png": "[encoded data removed]",
      "text/plain": [
       "<Figure size 432x288 with 1 Axes>"
      ]
     },
     "metadata": {
      "needs_background": "light"
     },
     "output_type": "display_data"
    }
   ],
   "source": [
    "dead_bar = treedf[treedf['target']==0].groupby('target')['boroname'].value_counts()\n",
    "\n",
    "dead_bar.unstack().plot(kind='bar')\n",
    "# Set labels and title\n",
    "plt.xlabel('Dead trees by Borough')\n",
    "plt.ylabel('Count')\n",
    "plt.xticks([])\n",
    "plt.title('Dead trees by Borough')\n",
    "\n",
    "# Show the plot\n",
    "plt.show()"
   ]
  },
  {
   "cell_type": "markdown",
   "metadata": {},
   "source": [
    "## Building the first model"
   ]
  },
  {
   "cell_type": "code",
   "execution_count": 18,
   "metadata": {},
   "outputs": [],
   "source": [
    "#Writing functions to process the data - this is fairly standard across model types?\n",
    "\n",
    "def train_process(trainset, categoricalx, numericx, classifiersx, ohex, ssx):\n",
    "\n",
    "    #creating dummies\n",
    "    train_dummies = ohex.fit_transform(trainset[categoricalx])\n",
    "    # Creating the new Dataframe from OneHotEncoder\n",
    "    X_train_onehot = pd.DataFrame(train_dummies, columns=ohex.get_feature_names_out(categoricalx), index=trainset.index)\n",
    "    # Apply StandardScaler to the specified numeric columns\n",
    "    trainset[numericx] = ssx.fit_transform(trainset[numericx])\n",
    "    #concatenate the processed datasets\n",
    "    X_train_df = pd.concat([trainset[numericx], X_train_onehot, trainset[classifiersx]], axis=1)\n",
    "    \n",
    "    return X_train_df\n",
    "\n",
    "def test_process(testset, categoricalx, numericx, classifiersx, ohex, ssx):\n",
    "    #creating dummies\n",
    "    test_dummies = ohex.transform(testset[categoricalx])\n",
    "    # Creating the new Dataframe from OneHotEncoder\n",
    "    X_test_onehot = pd.DataFrame(test_dummies, columns=ohex.get_feature_names_out(categoricalx), index=testset.index)\n",
    "    # Apply StandardScaler to the specified numeric columns\n",
    "    testset[numericx] = ssx.transform(testset[numericx])\n",
    "    #concatenate the processed datasets\n",
    "    X_test_df = pd.concat([testset[numericx], X_test_onehot, testset[classifiersx]], axis=1)\n",
    "    \n",
    "    return X_test_df\n"
   ]
  },
  {
   "cell_type": "code",
   "execution_count": 16,
   "metadata": {},
   "outputs": [
    {
     "name": "stdout",
     "output_type": "stream",
     "text": [
      "<class 'pandas.core.frame.DataFrame'>\n",
      "RangeIndex: 683788 entries, 0 to 683787\n",
      "Data columns (total 12 columns):\n",
      " #   Column      Non-Null Count   Dtype  \n",
      "---  ------      --------------   -----  \n",
      " 0   guards      683788 non-null  object \n",
      " 1   steward     683788 non-null  object \n",
      " 2   boroname    683788 non-null  object \n",
      " 3   spc_common  683788 non-null  object \n",
      " 4   tree_dbh    683788 non-null  int64  \n",
      " 5   Latitude    683788 non-null  float64\n",
      " 6   longitude   683788 non-null  float64\n",
      " 7   root_stone  683788 non-null  int64  \n",
      " 8   root_grate  683788 non-null  int64  \n",
      " 9   health      683788 non-null  float64\n",
      " 10  target_p    683788 non-null  int64  \n",
      " 11  target      683788 non-null  int64  \n",
      "dtypes: float64(3), int64(5), object(4)\n",
      "memory usage: 62.6+ MB\n"
     ]
    }
   ],
   "source": [
    "#deciding which columns to keep\n",
    "log_df = treedf.copy()\n",
    "\n",
    "categorical = ['guards', 'steward', 'boroname', 'spc_common'] #'cb_num', 'block_id', \n",
    "numeric = ['tree_dbh', 'Latitude', 'longitude']\n",
    "classifiers = ['root_stone', 'root_grate', 'health', 'target_p']\n",
    "target = ['target']\n",
    "columns = categorical + numeric + classifiers + target\n",
    "\n",
    "#create a subset DataFrame\n",
    "log_df = log_df[columns]\n",
    "\n",
    "#quick filter on blocks with more than 20 trees\n",
    "#block_id_counts = log_df3['block_id'].value_counts()\n",
    "#log_df = log_df[log_df['block_id'].isin(block_id_counts.index[block_id_counts >= 20])]\n",
    "\n",
    "#drop missing values\n",
    "log_df['steward'] = log_df['steward'].fillna('No_Steward')\n",
    "log_df['spc_common'] = log_df['spc_common'].fillna('Not_Avail')\n",
    "#log_df['problems'] = log_df['problems'].fillna('No_problems')\n",
    "log_df['health'] = log_df['health'].fillna(0)\n",
    "log_df['guards'] = log_df['guards'].fillna('Unknown')\n",
    "\n",
    "#ensure no missing values\n",
    "log_df.info()"
   ]
  },
  {
   "cell_type": "code",
   "execution_count": 17,
   "metadata": {},
   "outputs": [],
   "source": [
    "#define the X and y variables\n",
    "X = log_df.drop(target, axis=1)\n",
    "y = log_df[target]\n",
    "\n",
    "#do a train-test split\n",
    "X_train, X_test, y_train, y_test = train_test_split(X, y, test_size=0.2, random_state=53)\n",
    "\n",
    "#instantiate a new standard scaler and one-hot encoder\n",
    "ss = StandardScaler()\n",
    "ohe = OneHotEncoder(handle_unknown=\"ignore\", drop = 'first', sparse = False)\n",
    "\n",
    "# Convert 'None' strings to a unique label using LabelEncoder\n",
    "#label_encoder = LabelEncoder()\n",
    "\n",
    "# Apply label encoding to each column in the DataFrame\n",
    "#for column in X_train.columns:\n",
    "#    if X_train[column].dtype == 'O':  # Check if the column contains object (string) data type\n",
    " #       X_train[column] = label_encoder.fit_transform(X_train[column])\n",
    "\n",
    "#running the SMOTE\n",
    "#smote = SMOTE(random_state=53)\n",
    "#X_train_sm, y_train_sm = smote.fit_resample(X_train, y_train)      "
   ]
  },
  {
   "cell_type": "code",
   "execution_count": 19,
   "metadata": {
    "scrolled": true
   },
   "outputs": [
    {
     "name": "stderr",
     "output_type": "stream",
     "text": [
      "C:\\Users\\Reid Majka\\anaconda3\\envs\\learn-env\\lib\\site-packages\\sklearn\\preprocessing\\_encoders.py:975: FutureWarning: `sparse` was renamed to `sparse_output` in version 1.2 and will be removed in 1.4. `sparse_output` is ignored unless you leave `sparse` to its default value.\n",
      "  warnings.warn(\n"
     ]
    }
   ],
   "source": [
    "X_train_df = train_process(X_train, categorical, numeric, classifiers, ohe, ss)\n",
    "X_test_df = test_process(X_test, categorical, numeric, classifiers, ohe, ss)"
   ]
  },
  {
   "cell_type": "code",
   "execution_count": 20,
   "metadata": {},
   "outputs": [
    {
     "data": {
      "text/html": [
       "<div>\n",
       "<style scoped>\n",
       "    .dataframe tbody tr th:only-of-type {\n",
       "        vertical-align: middle;\n",
       "    }\n",
       "\n",
       "    .dataframe tbody tr th {\n",
       "        vertical-align: top;\n",
       "    }\n",
       "\n",
       "    .dataframe thead th {\n",
       "        text-align: right;\n",
       "    }\n",
       "</style>\n",
       "<table border=\"1\" class=\"dataframe\">\n",
       "  <thead>\n",
       "    <tr style=\"text-align: right;\">\n",
       "      <th></th>\n",
       "      <th>tree_dbh</th>\n",
       "      <th>Latitude</th>\n",
       "      <th>longitude</th>\n",
       "      <th>guards_Helpful</th>\n",
       "      <th>guards_None</th>\n",
       "      <th>guards_Unknown</th>\n",
       "      <th>guards_Unsure</th>\n",
       "      <th>steward_3or4</th>\n",
       "      <th>steward_4orMore</th>\n",
       "      <th>steward_No_Steward</th>\n",
       "      <th>...</th>\n",
       "      <th>spc_common_two-winged silverbell</th>\n",
       "      <th>spc_common_weeping willow</th>\n",
       "      <th>spc_common_white ash</th>\n",
       "      <th>spc_common_white oak</th>\n",
       "      <th>spc_common_white pine</th>\n",
       "      <th>spc_common_willow oak</th>\n",
       "      <th>root_stone</th>\n",
       "      <th>root_grate</th>\n",
       "      <th>health</th>\n",
       "      <th>target_p</th>\n",
       "    </tr>\n",
       "  </thead>\n",
       "  <tbody>\n",
       "    <tr>\n",
       "      <th>388930</th>\n",
       "      <td>-0.606654</td>\n",
       "      <td>-0.776401</td>\n",
       "      <td>-1.880071</td>\n",
       "      <td>0.0</td>\n",
       "      <td>1.0</td>\n",
       "      <td>0.0</td>\n",
       "      <td>0.0</td>\n",
       "      <td>0.0</td>\n",
       "      <td>0.0</td>\n",
       "      <td>0.0</td>\n",
       "      <td>...</td>\n",
       "      <td>0.0</td>\n",
       "      <td>0.0</td>\n",
       "      <td>0.0</td>\n",
       "      <td>0.0</td>\n",
       "      <td>0.0</td>\n",
       "      <td>0.0</td>\n",
       "      <td>0</td>\n",
       "      <td>0</td>\n",
       "      <td>3.0</td>\n",
       "      <td>0</td>\n",
       "    </tr>\n",
       "    <tr>\n",
       "      <th>668243</th>\n",
       "      <td>-0.836171</td>\n",
       "      <td>-1.334534</td>\n",
       "      <td>0.768239</td>\n",
       "      <td>0.0</td>\n",
       "      <td>1.0</td>\n",
       "      <td>0.0</td>\n",
       "      <td>0.0</td>\n",
       "      <td>0.0</td>\n",
       "      <td>0.0</td>\n",
       "      <td>0.0</td>\n",
       "      <td>...</td>\n",
       "      <td>0.0</td>\n",
       "      <td>0.0</td>\n",
       "      <td>0.0</td>\n",
       "      <td>0.0</td>\n",
       "      <td>0.0</td>\n",
       "      <td>0.0</td>\n",
       "      <td>0</td>\n",
       "      <td>0</td>\n",
       "      <td>1.0</td>\n",
       "      <td>0</td>\n",
       "    </tr>\n",
       "    <tr>\n",
       "      <th>406827</th>\n",
       "      <td>0.426172</td>\n",
       "      <td>-0.849981</td>\n",
       "      <td>-0.455524</td>\n",
       "      <td>0.0</td>\n",
       "      <td>1.0</td>\n",
       "      <td>0.0</td>\n",
       "      <td>0.0</td>\n",
       "      <td>0.0</td>\n",
       "      <td>0.0</td>\n",
       "      <td>0.0</td>\n",
       "      <td>...</td>\n",
       "      <td>0.0</td>\n",
       "      <td>0.0</td>\n",
       "      <td>0.0</td>\n",
       "      <td>0.0</td>\n",
       "      <td>0.0</td>\n",
       "      <td>0.0</td>\n",
       "      <td>1</td>\n",
       "      <td>0</td>\n",
       "      <td>3.0</td>\n",
       "      <td>1</td>\n",
       "    </tr>\n",
       "    <tr>\n",
       "      <th>421211</th>\n",
       "      <td>0.999965</td>\n",
       "      <td>0.545221</td>\n",
       "      <td>1.073628</td>\n",
       "      <td>0.0</td>\n",
       "      <td>1.0</td>\n",
       "      <td>0.0</td>\n",
       "      <td>0.0</td>\n",
       "      <td>0.0</td>\n",
       "      <td>0.0</td>\n",
       "      <td>0.0</td>\n",
       "      <td>...</td>\n",
       "      <td>0.0</td>\n",
       "      <td>0.0</td>\n",
       "      <td>0.0</td>\n",
       "      <td>0.0</td>\n",
       "      <td>0.0</td>\n",
       "      <td>0.0</td>\n",
       "      <td>1</td>\n",
       "      <td>0</td>\n",
       "      <td>3.0</td>\n",
       "      <td>1</td>\n",
       "    </tr>\n",
       "    <tr>\n",
       "      <th>300720</th>\n",
       "      <td>-0.950930</td>\n",
       "      <td>1.704516</td>\n",
       "      <td>1.082277</td>\n",
       "      <td>0.0</td>\n",
       "      <td>1.0</td>\n",
       "      <td>0.0</td>\n",
       "      <td>0.0</td>\n",
       "      <td>0.0</td>\n",
       "      <td>0.0</td>\n",
       "      <td>0.0</td>\n",
       "      <td>...</td>\n",
       "      <td>0.0</td>\n",
       "      <td>0.0</td>\n",
       "      <td>0.0</td>\n",
       "      <td>0.0</td>\n",
       "      <td>0.0</td>\n",
       "      <td>0.0</td>\n",
       "      <td>0</td>\n",
       "      <td>0</td>\n",
       "      <td>3.0</td>\n",
       "      <td>0</td>\n",
       "    </tr>\n",
       "    <tr>\n",
       "      <th>...</th>\n",
       "      <td>...</td>\n",
       "      <td>...</td>\n",
       "      <td>...</td>\n",
       "      <td>...</td>\n",
       "      <td>...</td>\n",
       "      <td>...</td>\n",
       "      <td>...</td>\n",
       "      <td>...</td>\n",
       "      <td>...</td>\n",
       "      <td>...</td>\n",
       "      <td>...</td>\n",
       "      <td>...</td>\n",
       "      <td>...</td>\n",
       "      <td>...</td>\n",
       "      <td>...</td>\n",
       "      <td>...</td>\n",
       "      <td>...</td>\n",
       "      <td>...</td>\n",
       "      <td>...</td>\n",
       "      <td>...</td>\n",
       "      <td>...</td>\n",
       "    </tr>\n",
       "    <tr>\n",
       "      <th>216253</th>\n",
       "      <td>-0.377137</td>\n",
       "      <td>-2.184911</td>\n",
       "      <td>-2.573171</td>\n",
       "      <td>0.0</td>\n",
       "      <td>1.0</td>\n",
       "      <td>0.0</td>\n",
       "      <td>0.0</td>\n",
       "      <td>0.0</td>\n",
       "      <td>0.0</td>\n",
       "      <td>0.0</td>\n",
       "      <td>...</td>\n",
       "      <td>0.0</td>\n",
       "      <td>0.0</td>\n",
       "      <td>0.0</td>\n",
       "      <td>0.0</td>\n",
       "      <td>0.0</td>\n",
       "      <td>0.0</td>\n",
       "      <td>0</td>\n",
       "      <td>0</td>\n",
       "      <td>3.0</td>\n",
       "      <td>0</td>\n",
       "    </tr>\n",
       "    <tr>\n",
       "      <th>177915</th>\n",
       "      <td>1.229482</td>\n",
       "      <td>-0.861320</td>\n",
       "      <td>-0.097740</td>\n",
       "      <td>0.0</td>\n",
       "      <td>1.0</td>\n",
       "      <td>0.0</td>\n",
       "      <td>0.0</td>\n",
       "      <td>0.0</td>\n",
       "      <td>0.0</td>\n",
       "      <td>0.0</td>\n",
       "      <td>...</td>\n",
       "      <td>0.0</td>\n",
       "      <td>0.0</td>\n",
       "      <td>0.0</td>\n",
       "      <td>0.0</td>\n",
       "      <td>0.0</td>\n",
       "      <td>0.0</td>\n",
       "      <td>1</td>\n",
       "      <td>0</td>\n",
       "      <td>2.0</td>\n",
       "      <td>1</td>\n",
       "    </tr>\n",
       "    <tr>\n",
       "      <th>317861</th>\n",
       "      <td>-0.606654</td>\n",
       "      <td>1.140619</td>\n",
       "      <td>-0.175556</td>\n",
       "      <td>0.0</td>\n",
       "      <td>1.0</td>\n",
       "      <td>0.0</td>\n",
       "      <td>0.0</td>\n",
       "      <td>0.0</td>\n",
       "      <td>0.0</td>\n",
       "      <td>0.0</td>\n",
       "      <td>...</td>\n",
       "      <td>0.0</td>\n",
       "      <td>0.0</td>\n",
       "      <td>0.0</td>\n",
       "      <td>0.0</td>\n",
       "      <td>0.0</td>\n",
       "      <td>0.0</td>\n",
       "      <td>0</td>\n",
       "      <td>0</td>\n",
       "      <td>3.0</td>\n",
       "      <td>0</td>\n",
       "    </tr>\n",
       "    <tr>\n",
       "      <th>559989</th>\n",
       "      <td>-0.950930</td>\n",
       "      <td>-0.752730</td>\n",
       "      <td>-0.346102</td>\n",
       "      <td>1.0</td>\n",
       "      <td>0.0</td>\n",
       "      <td>0.0</td>\n",
       "      <td>0.0</td>\n",
       "      <td>0.0</td>\n",
       "      <td>0.0</td>\n",
       "      <td>0.0</td>\n",
       "      <td>...</td>\n",
       "      <td>0.0</td>\n",
       "      <td>0.0</td>\n",
       "      <td>0.0</td>\n",
       "      <td>0.0</td>\n",
       "      <td>0.0</td>\n",
       "      <td>0.0</td>\n",
       "      <td>0</td>\n",
       "      <td>0</td>\n",
       "      <td>3.0</td>\n",
       "      <td>0</td>\n",
       "    </tr>\n",
       "    <tr>\n",
       "      <th>189213</th>\n",
       "      <td>-0.721413</td>\n",
       "      <td>-1.995299</td>\n",
       "      <td>-2.470034</td>\n",
       "      <td>0.0</td>\n",
       "      <td>1.0</td>\n",
       "      <td>0.0</td>\n",
       "      <td>0.0</td>\n",
       "      <td>0.0</td>\n",
       "      <td>0.0</td>\n",
       "      <td>0.0</td>\n",
       "      <td>...</td>\n",
       "      <td>0.0</td>\n",
       "      <td>0.0</td>\n",
       "      <td>0.0</td>\n",
       "      <td>0.0</td>\n",
       "      <td>0.0</td>\n",
       "      <td>0.0</td>\n",
       "      <td>0</td>\n",
       "      <td>0</td>\n",
       "      <td>3.0</td>\n",
       "      <td>0</td>\n",
       "    </tr>\n",
       "  </tbody>\n",
       "</table>\n",
       "<p>547030 rows × 151 columns</p>\n",
       "</div>"
      ],
      "text/plain": [
       "        tree_dbh  Latitude  longitude  guards_Helpful  guards_None  \\\n",
       "388930 -0.606654 -0.776401  -1.880071             0.0          1.0   \n",
       "668243 -0.836171 -1.334534   0.768239             0.0          1.0   \n",
       "406827  0.426172 -0.849981  -0.455524             0.0          1.0   \n",
       "421211  0.999965  0.545221   1.073628             0.0          1.0   \n",
       "300720 -0.950930  1.704516   1.082277             0.0          1.0   \n",
       "...          ...       ...        ...             ...          ...   \n",
       "216253 -0.377137 -2.184911  -2.573171             0.0          1.0   \n",
       "177915  1.229482 -0.861320  -0.097740             0.0          1.0   \n",
       "317861 -0.606654  1.140619  -0.175556             0.0          1.0   \n",
       "559989 -0.950930 -0.752730  -0.346102             1.0          0.0   \n",
       "189213 -0.721413 -1.995299  -2.470034             0.0          1.0   \n",
       "\n",
       "        guards_Unknown  guards_Unsure  steward_3or4  steward_4orMore  \\\n",
       "388930             0.0            0.0           0.0              0.0   \n",
       "668243             0.0            0.0           0.0              0.0   \n",
       "406827             0.0            0.0           0.0              0.0   \n",
       "421211             0.0            0.0           0.0              0.0   \n",
       "300720             0.0            0.0           0.0              0.0   \n",
       "...                ...            ...           ...              ...   \n",
       "216253             0.0            0.0           0.0              0.0   \n",
       "177915             0.0            0.0           0.0              0.0   \n",
       "317861             0.0            0.0           0.0              0.0   \n",
       "559989             0.0            0.0           0.0              0.0   \n",
       "189213             0.0            0.0           0.0              0.0   \n",
       "\n",
       "        steward_No_Steward  ...  spc_common_two-winged silverbell  \\\n",
       "388930                 0.0  ...                               0.0   \n",
       "668243                 0.0  ...                               0.0   \n",
       "406827                 0.0  ...                               0.0   \n",
       "421211                 0.0  ...                               0.0   \n",
       "300720                 0.0  ...                               0.0   \n",
       "...                    ...  ...                               ...   \n",
       "216253                 0.0  ...                               0.0   \n",
       "177915                 0.0  ...                               0.0   \n",
       "317861                 0.0  ...                               0.0   \n",
       "559989                 0.0  ...                               0.0   \n",
       "189213                 0.0  ...                               0.0   \n",
       "\n",
       "        spc_common_weeping willow  spc_common_white ash  spc_common_white oak  \\\n",
       "388930                        0.0                   0.0                   0.0   \n",
       "668243                        0.0                   0.0                   0.0   \n",
       "406827                        0.0                   0.0                   0.0   \n",
       "421211                        0.0                   0.0                   0.0   \n",
       "300720                        0.0                   0.0                   0.0   \n",
       "...                           ...                   ...                   ...   \n",
       "216253                        0.0                   0.0                   0.0   \n",
       "177915                        0.0                   0.0                   0.0   \n",
       "317861                        0.0                   0.0                   0.0   \n",
       "559989                        0.0                   0.0                   0.0   \n",
       "189213                        0.0                   0.0                   0.0   \n",
       "\n",
       "        spc_common_white pine  spc_common_willow oak  root_stone  root_grate  \\\n",
       "388930                    0.0                    0.0           0           0   \n",
       "668243                    0.0                    0.0           0           0   \n",
       "406827                    0.0                    0.0           1           0   \n",
       "421211                    0.0                    0.0           1           0   \n",
       "300720                    0.0                    0.0           0           0   \n",
       "...                       ...                    ...         ...         ...   \n",
       "216253                    0.0                    0.0           0           0   \n",
       "177915                    0.0                    0.0           1           0   \n",
       "317861                    0.0                    0.0           0           0   \n",
       "559989                    0.0                    0.0           0           0   \n",
       "189213                    0.0                    0.0           0           0   \n",
       "\n",
       "        health  target_p  \n",
       "388930     3.0         0  \n",
       "668243     1.0         0  \n",
       "406827     3.0         1  \n",
       "421211     3.0         1  \n",
       "300720     3.0         0  \n",
       "...        ...       ...  \n",
       "216253     3.0         0  \n",
       "177915     2.0         1  \n",
       "317861     3.0         0  \n",
       "559989     3.0         0  \n",
       "189213     3.0         0  \n",
       "\n",
       "[547030 rows x 151 columns]"
      ]
     },
     "execution_count": 20,
     "metadata": {},
     "output_type": "execute_result"
    }
   ],
   "source": [
    "X_train_df"
   ]
  },
  {
   "cell_type": "code",
   "execution_count": 21,
   "metadata": {},
   "outputs": [
    {
     "name": "stderr",
     "output_type": "stream",
     "text": [
      "C:\\Users\\Reid Majka\\anaconda3\\envs\\learn-env\\lib\\site-packages\\sklearn\\utils\\validation.py:1183: DataConversionWarning: A column-vector y was passed when a 1d array was expected. Please change the shape of y to (n_samples, ), for example using ravel().\n",
      "  y = column_or_1d(y, warn=True)\n"
     ]
    }
   ],
   "source": [
    "# Create the logistic regression object\n",
    "log = LogisticRegression()\n",
    "\n",
    "# Train the logistic regression model\n",
    "clf = log.fit(X_train_df, y_train)\n",
    "\n",
    "# Predict the target class based on p > 0.5 criteria\n",
    "y_pred = clf.predict(X_train_df)\n",
    "\n",
    "# Predict the probability with the training data set\n",
    "clf.predict_proba(X_train_df)\n",
    "\n",
    "# Calculate the model fit\n",
    "acc1 = clf.score(X_train_df, y_train)\n",
    "recall1 = recall_score(y_train, y_pred)"
   ]
  },
  {
   "cell_type": "code",
   "execution_count": 22,
   "metadata": {},
   "outputs": [
    {
     "data": {
      "image/png": "[encoded data removed]",
      "text/plain": [
       "<Figure size 360x288 with 1 Axes>"
      ]
     },
     "metadata": {
      "needs_background": "light"
     },
     "output_type": "display_data"
    }
   ],
   "source": [
    "# Calculate the confusion matrix\n",
    "conf_matrix = confusion_matrix(y_train, y_pred)\n",
    "\n",
    "plt.figure(figsize=(5, 4))\n",
    "sns.heatmap(conf_matrix, annot=True, fmt='d', cmap='Greens', cbar=False,\n",
    "            xticklabels=['Dead', 'Alive'],\n",
    "            yticklabels=['Dead', 'Alive'])\n",
    "plt.xlabel('Predicted')\n",
    "plt.ylabel('Actual')\n",
    "plt.title('Predictions on Life Status')\n",
    "plt.show()"
   ]
  },
  {
   "cell_type": "markdown",
   "metadata": {},
   "source": [
    "Clearly, the model has something going on.\n",
    "\n",
    "...Turns out, almost no data is recorded for dead trees & stumps. Need to find another target variable."
   ]
  },
  {
   "cell_type": "markdown",
   "metadata": {},
   "source": [
    "### Model #2 - changing the target variable"
   ]
  },
  {
   "cell_type": "code",
   "execution_count": 23,
   "metadata": {},
   "outputs": [
    {
     "name": "stdout",
     "output_type": "stream",
     "text": [
      "<class 'pandas.core.frame.DataFrame'>\n",
      "RangeIndex: 683788 entries, 0 to 683787\n",
      "Data columns (total 10 columns):\n",
      " #   Column      Non-Null Count   Dtype  \n",
      "---  ------      --------------   -----  \n",
      " 0   steward     652173 non-null  object \n",
      " 1   spc_common  652169 non-null  object \n",
      " 2   status      683788 non-null  object \n",
      " 3   cb_num      683788 non-null  int64  \n",
      " 4   boroname    683788 non-null  object \n",
      " 5   tree_dbh    683788 non-null  int64  \n",
      " 6   Latitude    683788 non-null  float64\n",
      " 7   longitude   683788 non-null  float64\n",
      " 8   health      652172 non-null  float64\n",
      " 9   target_p    683788 non-null  int64  \n",
      "dtypes: float64(3), int64(3), object(4)\n",
      "memory usage: 52.2+ MB\n"
     ]
    }
   ],
   "source": [
    "#model 2 - there has to be a better way to streamline this...\n",
    "\n",
    "categorical2 = ['steward', 'spc_common', 'status', 'cb_num', 'boroname']\n",
    "numeric2 = ['tree_dbh', 'Latitude', 'longitude']\n",
    "classifiers2 = ['health']\n",
    "target2 = ['target_p']\n",
    "columns2 = categorical2 + numeric2 + classifiers2 + target2\n",
    "\n",
    "#create a subset DataFrame\n",
    "log_df2 = treedf[columns2]\n",
    "\n",
    "#ensure no missing values\n",
    "log_df2.info()"
   ]
  },
  {
   "cell_type": "code",
   "execution_count": 25,
   "metadata": {
    "scrolled": true
   },
   "outputs": [
    {
     "name": "stderr",
     "output_type": "stream",
     "text": [
      "<ipython-input-25-df0909064b44>:2: SettingWithCopyWarning: \n",
      "A value is trying to be set on a copy of a slice from a DataFrame.\n",
      "Try using .loc[row_indexer,col_indexer] = value instead\n",
      "\n",
      "See the caveats in the documentation: https://pandas.pydata.org/pandas-docs/stable/user_guide/indexing.html#returning-a-view-versus-a-copy\n",
      "  log_df2['steward'] = log_df2['steward'].fillna('No_Steward')\n",
      "<ipython-input-25-df0909064b44>:3: SettingWithCopyWarning: \n",
      "A value is trying to be set on a copy of a slice from a DataFrame.\n",
      "Try using .loc[row_indexer,col_indexer] = value instead\n",
      "\n",
      "See the caveats in the documentation: https://pandas.pydata.org/pandas-docs/stable/user_guide/indexing.html#returning-a-view-versus-a-copy\n",
      "  log_df2['health'] = log_df2['health'].fillna(0)\n",
      "<ipython-input-25-df0909064b44>:4: SettingWithCopyWarning: \n",
      "A value is trying to be set on a copy of a slice from a DataFrame.\n",
      "Try using .loc[row_indexer,col_indexer] = value instead\n",
      "\n",
      "See the caveats in the documentation: https://pandas.pydata.org/pandas-docs/stable/user_guide/indexing.html#returning-a-view-versus-a-copy\n",
      "  log_df2['spc_common'] = log_df2['spc_common'].fillna('Not_Avail')\n"
     ]
    }
   ],
   "source": [
    "#fill na values\n",
    "log_df2['steward'] = log_df2['steward'].fillna('No_Steward')\n",
    "log_df2['health'] = log_df2['health'].fillna(0)\n",
    "log_df2['spc_common'] = log_df2['spc_common'].fillna('Not_Avail')"
   ]
  },
  {
   "cell_type": "code",
   "execution_count": 26,
   "metadata": {},
   "outputs": [
    {
     "data": {
      "text/plain": [
       "3.0    528850\n",
       "2.0     96504\n",
       "0.0     31616\n",
       "1.0     26818\n",
       "Name: health, dtype: int64"
      ]
     },
     "execution_count": 26,
     "metadata": {},
     "output_type": "execute_result"
    }
   ],
   "source": [
    "log_df2['health'].value_counts()\n"
   ]
  },
  {
   "cell_type": "code",
   "execution_count": 27,
   "metadata": {},
   "outputs": [],
   "source": [
    "#define the X and y variables\n",
    "X2 = log_df2.drop(target2, axis=1)\n",
    "y2 = log_df2[target2]\n",
    "\n",
    "#do a train-test split\n",
    "X_train2, X_test2, y_train2, y_test2 = train_test_split(X2, y2, test_size=0.2, random_state=53)"
   ]
  },
  {
   "cell_type": "code",
   "execution_count": 28,
   "metadata": {},
   "outputs": [
    {
     "name": "stderr",
     "output_type": "stream",
     "text": [
      "C:\\Users\\Reid Majka\\anaconda3\\envs\\learn-env\\lib\\site-packages\\sklearn\\preprocessing\\_encoders.py:975: FutureWarning: `sparse` was renamed to `sparse_output` in version 1.2 and will be removed in 1.4. `sparse_output` is ignored unless you leave `sparse` to its default value.\n",
      "  warnings.warn(\n"
     ]
    }
   ],
   "source": [
    "#instantiate a new standard scaler and one-hot encoder\n",
    "ss2 = StandardScaler()\n",
    "ohe2 = OneHotEncoder(handle_unknown=\"ignore\", drop = 'first', sparse = False)\n",
    "\n",
    "X_train_df2 = train_process(X_train2, categorical2, numeric2, classifiers2, ohe2, ss2)\n",
    "X_test_df2 = test_process(X_test2, categorical2, numeric2, classifiers2, ohe2, ss2)"
   ]
  },
  {
   "cell_type": "code",
   "execution_count": 29,
   "metadata": {},
   "outputs": [
    {
     "name": "stderr",
     "output_type": "stream",
     "text": [
      "C:\\Users\\Reid Majka\\anaconda3\\envs\\learn-env\\lib\\site-packages\\sklearn\\utils\\validation.py:1183: DataConversionWarning: A column-vector y was passed when a 1d array was expected. Please change the shape of y to (n_samples, ), for example using ravel().\n",
      "  y = column_or_1d(y, warn=True)\n"
     ]
    }
   ],
   "source": [
    "# Create the logistic regression object\n",
    "log2 = LogisticRegression(max_iter=1000)\n",
    "\n",
    "# Train the logistic regression model\n",
    "clf2 = log2.fit(X_train_df2, y_train2)\n",
    "\n",
    "# Predict the target class based on p > 0.5 criteria\n",
    "y_pred2 = clf2.predict(X_train_df2)\n",
    "\n",
    "# Predict the probability with the training data set\n",
    "clf2.predict_proba(X_train_df2)\n",
    "\n",
    "# Calculate the model fit\n",
    "acc2 = clf2.score(X_train_df2, y_train2)"
   ]
  },
  {
   "cell_type": "code",
   "execution_count": 30,
   "metadata": {},
   "outputs": [
    {
     "name": "stdout",
     "output_type": "stream",
     "text": [
      "accuracy: 0.7222254720947663 -----  recall: 0.4767634552302272\n"
     ]
    }
   ],
   "source": [
    "recall2 = recall_score(y_train2, y_pred2)\n",
    "print('accuracy: '+str(acc2)+' -----  recall: '+str(recall2))"
   ]
  },
  {
   "cell_type": "code",
   "execution_count": 35,
   "metadata": {},
   "outputs": [
    {
     "data": {
      "image/png": "[encoded data removed]",
      "text/plain": [
       "<Figure size 360x288 with 1 Axes>"
      ]
     },
     "metadata": {
      "needs_background": "light"
     },
     "output_type": "display_data"
    }
   ],
   "source": [
    "# Calculate the confusion matrix\n",
    "conf_matrix2 = confusion_matrix(y_train2, y_pred2)\n",
    "labels = ('No Problems', 'Problems')\n",
    "plt.figure(figsize=(5, 4))\n",
    "sns.heatmap(conf_matrix2, annot=True, fmt='d', cmap='Greens', cbar=False,\n",
    "            xticklabels=['No Problems', 'Problems'],\n",
    "            yticklabels=['No Problems', 'Problems'])\n",
    "plt.xlabel('Predicted')\n",
    "plt.ylabel('Actual')\n",
    "plt.title('Confusion Matrix')\n",
    "plt.show()"
   ]
  },
  {
   "cell_type": "markdown",
   "metadata": {},
   "source": [
    "ok, this model seems to be running average at best. Going to add more columns to see if we can reduce the false positives..."
   ]
  },
  {
   "cell_type": "markdown",
   "metadata": {},
   "source": [
    "### Model #3 - add other columns"
   ]
  },
  {
   "cell_type": "code",
   "execution_count": 31,
   "metadata": {},
   "outputs": [
    {
     "name": "stdout",
     "output_type": "stream",
     "text": [
      "<class 'pandas.core.frame.DataFrame'>\n",
      "RangeIndex: 683788 entries, 0 to 683787\n",
      "Data columns (total 15 columns):\n",
      " #   Column      Non-Null Count   Dtype  \n",
      "---  ------      --------------   -----  \n",
      " 0   guards      652172 non-null  object \n",
      " 1   steward     652173 non-null  object \n",
      " 2   boroname    683788 non-null  object \n",
      " 3   spc_common  652169 non-null  object \n",
      " 4   cb_num      683788 non-null  int64  \n",
      " 5   status      683788 non-null  object \n",
      " 6   sidewalk    652172 non-null  object \n",
      " 7   user_type   683788 non-null  object \n",
      " 8   cncldist    683788 non-null  int64  \n",
      " 9   tree_dbh    683788 non-null  int64  \n",
      " 10  Latitude    683788 non-null  float64\n",
      " 11  longitude   683788 non-null  float64\n",
      " 12  root_stone  683788 non-null  int64  \n",
      " 13  root_grate  683788 non-null  int64  \n",
      " 14  target_p    683788 non-null  int64  \n",
      "dtypes: float64(2), int64(6), object(7)\n",
      "memory usage: 78.3+ MB\n"
     ]
    }
   ],
   "source": [
    "#model 3 - there has to be a better way to streamline this...\n",
    "\n",
    "categorical3 = ['guards', 'steward', 'boroname', 'spc_common', 'cb_num', 'status', 'sidewalk', 'user_type', 'cncldist']\n",
    "numeric3 = ['tree_dbh', 'Latitude', 'longitude']\n",
    "classifiers3 = ['root_stone', 'root_grate']\n",
    "target3 = ['target_p']\n",
    "columns3 = categorical3 + numeric3 + classifiers3 + target3\n",
    "\n",
    "#create a subset DataFrame\n",
    "log_df3 = treedf[columns3]\n",
    "\n",
    "#ensure no missing values\n",
    "log_df3.info()"
   ]
  },
  {
   "cell_type": "code",
   "execution_count": 33,
   "metadata": {},
   "outputs": [
    {
     "name": "stderr",
     "output_type": "stream",
     "text": [
      "<ipython-input-33-b034f7b3f9d1>:2: SettingWithCopyWarning: \n",
      "A value is trying to be set on a copy of a slice from a DataFrame.\n",
      "Try using .loc[row_indexer,col_indexer] = value instead\n",
      "\n",
      "See the caveats in the documentation: https://pandas.pydata.org/pandas-docs/stable/user_guide/indexing.html#returning-a-view-versus-a-copy\n",
      "  log_df3['guards'] = log_df3['guards'].fillna('Unknown')\n",
      "<ipython-input-33-b034f7b3f9d1>:3: SettingWithCopyWarning: \n",
      "A value is trying to be set on a copy of a slice from a DataFrame.\n",
      "Try using .loc[row_indexer,col_indexer] = value instead\n",
      "\n",
      "See the caveats in the documentation: https://pandas.pydata.org/pandas-docs/stable/user_guide/indexing.html#returning-a-view-versus-a-copy\n",
      "  log_df3['steward'] = log_df3['steward'].fillna('No_Steward')\n",
      "<ipython-input-33-b034f7b3f9d1>:4: SettingWithCopyWarning: \n",
      "A value is trying to be set on a copy of a slice from a DataFrame.\n",
      "Try using .loc[row_indexer,col_indexer] = value instead\n",
      "\n",
      "See the caveats in the documentation: https://pandas.pydata.org/pandas-docs/stable/user_guide/indexing.html#returning-a-view-versus-a-copy\n",
      "  log_df3['spc_common'] = log_df3['spc_common'].fillna('Not_Avail')\n",
      "<ipython-input-33-b034f7b3f9d1>:5: SettingWithCopyWarning: \n",
      "A value is trying to be set on a copy of a slice from a DataFrame.\n",
      "Try using .loc[row_indexer,col_indexer] = value instead\n",
      "\n",
      "See the caveats in the documentation: https://pandas.pydata.org/pandas-docs/stable/user_guide/indexing.html#returning-a-view-versus-a-copy\n",
      "  log_df3['sidewalk'] = log_df3['sidewalk'].fillna('No_issue')\n"
     ]
    }
   ],
   "source": [
    "#fill in null values\n",
    "log_df3['guards'] = log_df3['guards'].fillna('Unknown')\n",
    "log_df3['steward'] = log_df3['steward'].fillna('No_Steward')\n",
    "log_df3['spc_common'] = log_df3['spc_common'].fillna('Not_Avail')\n",
    "log_df3['sidewalk'] = log_df3['sidewalk'].fillna('No_issue')"
   ]
  },
  {
   "cell_type": "code",
   "execution_count": 34,
   "metadata": {},
   "outputs": [
    {
     "name": "stdout",
     "output_type": "stream",
     "text": [
      "<class 'pandas.core.frame.DataFrame'>\n",
      "RangeIndex: 683788 entries, 0 to 683787\n",
      "Data columns (total 15 columns):\n",
      " #   Column      Non-Null Count   Dtype  \n",
      "---  ------      --------------   -----  \n",
      " 0   guards      683788 non-null  object \n",
      " 1   steward     683788 non-null  object \n",
      " 2   boroname    683788 non-null  object \n",
      " 3   spc_common  683788 non-null  object \n",
      " 4   cb_num      683788 non-null  int64  \n",
      " 5   status      683788 non-null  object \n",
      " 6   sidewalk    683788 non-null  object \n",
      " 7   user_type   683788 non-null  object \n",
      " 8   cncldist    683788 non-null  int64  \n",
      " 9   tree_dbh    683788 non-null  int64  \n",
      " 10  Latitude    683788 non-null  float64\n",
      " 11  longitude   683788 non-null  float64\n",
      " 12  root_stone  683788 non-null  int64  \n",
      " 13  root_grate  683788 non-null  int64  \n",
      " 14  target_p    683788 non-null  int64  \n",
      "dtypes: float64(2), int64(6), object(7)\n",
      "memory usage: 78.3+ MB\n"
     ]
    }
   ],
   "source": [
    "log_df3.info()"
   ]
  },
  {
   "cell_type": "code",
   "execution_count": 35,
   "metadata": {},
   "outputs": [],
   "source": [
    "#Instantiate transformers\n",
    "ss3 = StandardScaler()\n",
    "ohe3 = OneHotEncoder(handle_unknown=\"ignore\", drop = 'first', sparse = False)\n",
    "\n",
    "#define the X and y variables\n",
    "X3 = log_df3.drop(target3, axis=1)\n",
    "y3 = log_df3[target3]\n",
    "\n",
    "#do a train-test split\n",
    "X_train3, X_test3, y_train3, y_test3 = train_test_split(X3, y3, test_size=0.2, random_state=53)"
   ]
  },
  {
   "cell_type": "code",
   "execution_count": 36,
   "metadata": {},
   "outputs": [
    {
     "name": "stderr",
     "output_type": "stream",
     "text": [
      "C:\\Users\\Reid Majka\\anaconda3\\envs\\learn-env\\lib\\site-packages\\sklearn\\preprocessing\\_encoders.py:975: FutureWarning: `sparse` was renamed to `sparse_output` in version 1.2 and will be removed in 1.4. `sparse_output` is ignored unless you leave `sparse` to its default value.\n",
      "  warnings.warn(\n"
     ]
    }
   ],
   "source": [
    "#run the processing functions:\n",
    "X_train_df3 = train_process(X_train3, categorical3, numeric3, classifiers3, ohe3, ss3)\n",
    "X_test_df3 = test_process(X_test3, categorical3, numeric3, classifiers3, ohe3, ss3)"
   ]
  },
  {
   "cell_type": "code",
   "execution_count": 37,
   "metadata": {},
   "outputs": [
    {
     "data": {
      "text/plain": [
       "(547030, 263)"
      ]
     },
     "execution_count": 37,
     "metadata": {},
     "output_type": "execute_result"
    }
   ],
   "source": [
    "X_train_df3.shape"
   ]
  },
  {
   "cell_type": "code",
   "execution_count": 38,
   "metadata": {},
   "outputs": [
    {
     "name": "stderr",
     "output_type": "stream",
     "text": [
      "C:\\Users\\Reid Majka\\anaconda3\\envs\\learn-env\\lib\\site-packages\\sklearn\\utils\\validation.py:1183: DataConversionWarning: A column-vector y was passed when a 1d array was expected. Please change the shape of y to (n_samples, ), for example using ravel().\n",
      "  y = column_or_1d(y, warn=True)\n"
     ]
    }
   ],
   "source": [
    "# Create the logistic regression object\n",
    "log3 = LogisticRegression(max_iter=10000, n_jobs=8)#, penalty='l1', solver='liblinear')\n",
    "\n",
    "# Train the logistic regression model\n",
    "clf3 = log3.fit(X_train_df3, y_train3)\n",
    "\n",
    "# Predict the target class based on p > 0.5 criteria\n",
    "y_pred3 = clf3.predict(X_train_df3)\n",
    "\n",
    "# Predict the probability with the training data set\n",
    "clf3.predict_proba(X_train_df3)\n",
    "\n",
    "# Calculate the model fit\n",
    "acc3 = clf3.score(X_train_df3, y_train3)"
   ]
  },
  {
   "cell_type": "code",
   "execution_count": 42,
   "metadata": {},
   "outputs": [
    {
     "name": "stdout",
     "output_type": "stream",
     "text": [
      "accuracy: 0.8801564813629965 -----  recall: 0.6980828574899769 -----  precision: 0.976672400546645\n"
     ]
    }
   ],
   "source": [
    "recall3 = recall_score(y_train3, y_pred3)\n",
    "print('accuracy: '+str(acc3)+' -----  recall: '+str(recall3)+' -----  precision: '+str(precision_score(y_train3, y_pred3)))"
   ]
  },
  {
   "cell_type": "code",
   "execution_count": 43,
   "metadata": {},
   "outputs": [
    {
     "data": {
      "image/png": "[encoded data removed]",
      "text/plain": [
       "<Figure size 360x288 with 1 Axes>"
      ]
     },
     "metadata": {
      "needs_background": "light"
     },
     "output_type": "display_data"
    }
   ],
   "source": [
    "conf_matrix3 = confusion_matrix(y_train3, y_pred3,)\n",
    "\n",
    "plt.figure(figsize=(5, 4))\n",
    "sns.heatmap(conf_matrix3, annot=True, cmap='Greens', cbar=False, fmt=',',\n",
    "            xticklabels=['No Problems', 'Problems'],\n",
    "            yticklabels=['No Problems', 'Problems'])\n",
    "plt.xlabel('Predicted Problems')\n",
    "plt.ylabel('Actual Problems')\n",
    "plt.title('Problem Classification Model')\n",
    "plt.show()"
   ]
  },
  {
   "cell_type": "markdown",
   "metadata": {},
   "source": [
    "#### this base-model has the highest accuracy so far, so we will tune the hyper-parameters along these columns. Using notation '--3a' for future models to prevent data-leakage.\n",
    "\n",
    "- Next step is to try balancing the data\n",
    "- Then, try tuning hyper-parameters\n",
    "\n",
    "It's concerning that of the \"Unhealthy\" trees, more were predicted as healthy (false positive) than true negative.\n"
   ]
  },
  {
   "cell_type": "markdown",
   "metadata": {},
   "source": [
    "##### after running into memory issues running the model, we need to down-sample the majority class. once the model runs successfully, will tune the amount of data to increase as much as possible before running into the memory issue"
   ]
  },
  {
   "cell_type": "code",
   "execution_count": 44,
   "metadata": {},
   "outputs": [],
   "source": [
    "# Separate majority and minority classes\n",
    "majority_class = log_df3[log_df3['target_p'] == 0]\n",
    "minority_class = log_df3[log_df3['target_p'] == 1]\n",
    "\n",
    "# Downsample majority class\n",
    "downsampled_majority = resample(majority_class, replace=False, n_samples=len(minority_class), random_state=53)\n",
    "\n",
    "# Combine the dataframes\n",
    "balanced_df = pd.concat([downsampled_majority, minority_class])\n",
    "\n",
    "# Shuffle the rows to mix the data\n",
    "log_df3_bal = balanced_df.sample(frac=1, random_state=53).reset_index(drop=True)"
   ]
  },
  {
   "cell_type": "code",
   "execution_count": 45,
   "metadata": {},
   "outputs": [
    {
     "data": {
      "text/plain": [
       "1    257508\n",
       "0    257508\n",
       "Name: target_p, dtype: int64"
      ]
     },
     "execution_count": 45,
     "metadata": {},
     "output_type": "execute_result"
    }
   ],
   "source": [
    "log_df3_bal['target_p'].value_counts()"
   ]
  },
  {
   "cell_type": "code",
   "execution_count": 46,
   "metadata": {},
   "outputs": [],
   "source": [
    "#Instantiate transformers\n",
    "ss3a = StandardScaler()\n",
    "ohe3a = OneHotEncoder(handle_unknown=\"ignore\", drop = 'first', sparse = False)\n",
    "\n",
    "#define the X and y variables\n",
    "X3a = log_df3_bal.drop(target3, axis=1)\n",
    "y3a = log_df3_bal[target3]\n",
    "\n",
    "#do a train-test split\n",
    "X_train3a, X_test3a, y_train3a, y_test3a = train_test_split(X3a, y3a, test_size=0.2, random_state=53)"
   ]
  },
  {
   "cell_type": "code",
   "execution_count": 47,
   "metadata": {},
   "outputs": [
    {
     "name": "stderr",
     "output_type": "stream",
     "text": [
      "C:\\Users\\Reid Majka\\anaconda3\\envs\\learn-env\\lib\\site-packages\\sklearn\\preprocessing\\_encoders.py:975: FutureWarning: `sparse` was renamed to `sparse_output` in version 1.2 and will be removed in 1.4. `sparse_output` is ignored unless you leave `sparse` to its default value.\n",
      "  warnings.warn(\n"
     ]
    }
   ],
   "source": [
    "#run the processing functions:\n",
    "X_train_df3a = train_process(X_train3a, categorical3, numeric3, classifiers3, ohe3a, ss3a)\n",
    "X_test_df3a = test_process(X_test3a, categorical3, numeric3, classifiers3, ohe3a, ss3a)"
   ]
  },
  {
   "cell_type": "code",
   "execution_count": 48,
   "metadata": {},
   "outputs": [
    {
     "data": {
      "text/plain": [
       "(412012, 263)"
      ]
     },
     "execution_count": 48,
     "metadata": {},
     "output_type": "execute_result"
    }
   ],
   "source": [
    "X_train_df3a.shape"
   ]
  },
  {
   "cell_type": "code",
   "execution_count": 51,
   "metadata": {},
   "outputs": [
    {
     "name": "stderr",
     "output_type": "stream",
     "text": [
      "C:\\Users\\Reid Majka\\anaconda3\\envs\\learn-env\\lib\\site-packages\\sklearn\\utils\\validation.py:1183: DataConversionWarning: A column-vector y was passed when a 1d array was expected. Please change the shape of y to (n_samples, ), for example using ravel().\n",
      "  y = column_or_1d(y, warn=True)\n"
     ]
    }
   ],
   "source": [
    "# Create the logistic regression object\n",
    "log3a = LogisticRegression(max_iter=10000, n_jobs=8)\n",
    "\n",
    "# Train the logistic regression model\n",
    "clf3a = log3a.fit(X_train_df3a, y_train3a)\n",
    "\n",
    "# Predict the target class based on p > 0.5 criteria\n",
    "y_pred3a = clf3a.predict(X_train_df3a)\n",
    "\n",
    "# Predict the probability with the training data set\n",
    "clf3a.predict_proba(X_train_df3a)\n",
    "\n",
    "# Calculate the model fit\n",
    "acc3a = clf3a.score(X_train_df3a, y_train3a)"
   ]
  },
  {
   "cell_type": "code",
   "execution_count": 52,
   "metadata": {},
   "outputs": [
    {
     "name": "stdout",
     "output_type": "stream",
     "text": [
      "accuracy: 0.8478976340494937 -----  recall: 0.7358698608844331\n"
     ]
    }
   ],
   "source": [
    "recall3a = recall_score(y_train3a, y_pred3a)\n",
    "print('accuracy: '+str(acc3a)+' -----  recall: '+str(recall3a))"
   ]
  },
  {
   "cell_type": "code",
   "execution_count": 54,
   "metadata": {},
   "outputs": [
    {
     "data": {
      "image/png": "[encoded data removed]",
      "text/plain": [
       "<Figure size 360x288 with 1 Axes>"
      ]
     },
     "metadata": {
      "needs_background": "light"
     },
     "output_type": "display_data"
    }
   ],
   "source": [
    "conf_matrix3a = confusion_matrix(y_train3a, y_pred3a)\n",
    "\n",
    "plt.figure(figsize=(5, 4))\n",
    "sns.heatmap(conf_matrix3a, annot=True, fmt='d', cmap='Greens', cbar=False,\n",
    "            xticklabels=['No Problems', 'Problems'],\n",
    "            yticklabels=['No Problems', 'Problems'])\n",
    "plt.xlabel('Predicted Health')\n",
    "plt.ylabel('Actual Health')\n",
    "plt.title('Problems Classification Model')\n",
    "plt.show()"
   ]
  },
  {
   "cell_type": "markdown",
   "metadata": {},
   "source": [
    "##### Balancing the dataset did not help the model, so we will continue with the unbalanced dataset."
   ]
  },
  {
   "cell_type": "markdown",
   "metadata": {},
   "source": [
    "#### Tuning hyper-parameters on model #3"
   ]
  },
  {
   "cell_type": "code",
   "execution_count": 56,
   "metadata": {},
   "outputs": [
    {
     "name": "stderr",
     "output_type": "stream",
     "text": [
      "C:\\Users\\Reid Majka\\anaconda3\\envs\\learn-env\\lib\\site-packages\\sklearn\\preprocessing\\_encoders.py:975: FutureWarning: `sparse` was renamed to `sparse_output` in version 1.2 and will be removed in 1.4. `sparse_output` is ignored unless you leave `sparse` to its default value.\n",
      "  warnings.warn(\n"
     ]
    }
   ],
   "source": [
    "#starting with C-value\n",
    "#do a train-test split\n",
    "X_train3b, X_test3b, y_train3b, y_test3b = train_test_split(X3, y3, test_size=0.2, random_state=53)\n",
    "\n",
    "#set new processors\n",
    "ss3b = StandardScaler()\n",
    "ohe3b = OneHotEncoder(handle_unknown=\"ignore\", drop = 'first', sparse = False)\n",
    "\n",
    "#run the processing functions:\n",
    "X_train_df3b = train_process(X_train3b, categorical3, numeric3, classifiers3, ohe3b, ss3b)\n",
    "X_test_df3b = test_process(X_test3b, categorical3, numeric3, classifiers3, ohe3b, ss3b)\n",
    "\n"
   ]
  },
  {
   "cell_type": "code",
   "execution_count": 57,
   "metadata": {},
   "outputs": [
    {
     "data": {
      "text/plain": [
       "(547030, 263)"
      ]
     },
     "execution_count": 57,
     "metadata": {},
     "output_type": "execute_result"
    }
   ],
   "source": [
    "X_train_df3b.shape"
   ]
  },
  {
   "cell_type": "code",
   "execution_count": 58,
   "metadata": {},
   "outputs": [
    {
     "name": "stderr",
     "output_type": "stream",
     "text": [
      "C:\\Users\\Reid Majka\\anaconda3\\envs\\learn-env\\lib\\site-packages\\sklearn\\utils\\validation.py:1183: DataConversionWarning: A column-vector y was passed when a 1d array was expected. Please change the shape of y to (n_samples, ), for example using ravel().\n",
      "  y = column_or_1d(y, warn=True)\n"
     ]
    }
   ],
   "source": [
    "# Create the logistic regression object\n",
    "log3b = LogisticRegression(max_iter=10000, n_jobs=8, C=100)\n",
    "\n",
    "# Train the logistic regression model\n",
    "clf3b = log3b.fit(X_train_df3b, y_train3b)\n",
    "\n",
    "# Predict the target class based on p > 0.5 criteria\n",
    "y_pred3b = clf3b.predict(X_train_df3b)\n",
    "\n",
    "# Predict the probability with the training data set\n",
    "prob3b = clf3b.predict_proba(X_train_df3b)\n",
    "\n",
    "# Calculate the model fit\n",
    "acc3b = clf3b.score(X_train_df3b, y_train3b)"
   ]
  },
  {
   "cell_type": "code",
   "execution_count": 59,
   "metadata": {},
   "outputs": [
    {
     "name": "stdout",
     "output_type": "stream",
     "text": [
      "accuracy: 0.8801692777361387 -----  recall: 0.6982043494107641\n"
     ]
    }
   ],
   "source": [
    "recall3b = recall_score(y_train3b, y_pred3b)\n",
    "print('accuracy: '+str(acc3b)+' -----  recall: '+str(recall3b))"
   ]
  },
  {
   "cell_type": "code",
   "execution_count": 60,
   "metadata": {},
   "outputs": [
    {
     "data": {
      "image/png": "[encoded data removed]",
      "text/plain": [
       "<Figure size 360x288 with 1 Axes>"
      ]
     },
     "metadata": {
      "needs_background": "light"
     },
     "output_type": "display_data"
    }
   ],
   "source": [
    "conf_matrix3b = confusion_matrix(y_train3b, y_pred3b)\n",
    "\n",
    "plt.figure(figsize=(5, 4))\n",
    "sns.heatmap(conf_matrix3a, annot=True, fmt='d', cmap='Greens', cbar=False,\n",
    "            xticklabels=['No Problems', 'Problems'],\n",
    "            yticklabels=['No Problems', 'Problems'])\n",
    "plt.xlabel('Predicted Health')\n",
    "plt.ylabel('Actual Health')\n",
    "plt.title('Problems Classification Model')\n",
    "plt.show()"
   ]
  },
  {
   "cell_type": "markdown",
   "metadata": {},
   "source": [
    "##### Changing C worked better, now shifting from lasso to ridge penalty:"
   ]
  },
  {
   "cell_type": "code",
   "execution_count": 61,
   "metadata": {},
   "outputs": [
    {
     "name": "stderr",
     "output_type": "stream",
     "text": [
      "C:\\Users\\Reid Majka\\anaconda3\\envs\\learn-env\\lib\\site-packages\\sklearn\\preprocessing\\_encoders.py:975: FutureWarning: `sparse` was renamed to `sparse_output` in version 1.2 and will be removed in 1.4. `sparse_output` is ignored unless you leave `sparse` to its default value.\n",
      "  warnings.warn(\n",
      "C:\\Users\\Reid Majka\\anaconda3\\envs\\learn-env\\lib\\site-packages\\sklearn\\utils\\validation.py:1183: DataConversionWarning: A column-vector y was passed when a 1d array was expected. Please change the shape of y to (n_samples, ), for example using ravel().\n",
      "  y = column_or_1d(y, warn=True)\n"
     ]
    }
   ],
   "source": [
    "#set C to 100\n",
    "#next hyper-parameter: change from l2 to l1 penalty\n",
    "#do a train-test split\n",
    "X_train3c, X_test3c, y_train3c, y_test3c = train_test_split(X3, y3, test_size=0.2, random_state=53)\n",
    "\n",
    "#set new processors\n",
    "ss3c = StandardScaler()\n",
    "ohe3c = OneHotEncoder(handle_unknown=\"ignore\", drop = 'first', sparse = False)\n",
    "\n",
    "X_train_df3c = train_process(X_train3c, categorical3, numeric3, classifiers3, ohe3c, ss3c)\n",
    "X_test_df3c = test_process(X_test3c, categorical3, numeric3, classifiers3, ohe3c, ss3c)\n",
    "\n",
    "# Create the logistic regression object with penalty l1\n",
    "log3c = LogisticRegression(max_iter=10000, penalty='l1', solver='liblinear', C=100)\n",
    "\n",
    "# Train the logistic regression model\n",
    "clf3c = log3c.fit(X_train_df3c, y_train3c)\n",
    "# Predict the target class based on p > 0.5 criteria\n",
    "y_pred3c = clf3c.predict(X_train_df3c)\n",
    "# Predict the probability with the training data set\n",
    "clf3c.predict_proba(X_train_df3c)\n",
    "# Calculate the model fit\n",
    "acc3c = clf3c.score(X_train_df3c, y_train3c)\n"
   ]
  },
  {
   "cell_type": "code",
   "execution_count": 62,
   "metadata": {},
   "outputs": [
    {
     "name": "stdout",
     "output_type": "stream",
     "text": [
      "accuracy: 0.8801692777361387 -----  recall: 0.6981946300571013\n"
     ]
    }
   ],
   "source": [
    "recall3c = recall_score(y_train3c, y_pred3c)\n",
    "print('accuracy: '+str(acc3c)+' -----  recall: '+str(recall3c))"
   ]
  },
  {
   "cell_type": "code",
   "execution_count": 63,
   "metadata": {},
   "outputs": [
    {
     "data": {
      "image/png": "[encoded data removed]",
      "text/plain": [
       "<Figure size 360x288 with 1 Axes>"
      ]
     },
     "metadata": {
      "needs_background": "light"
     },
     "output_type": "display_data"
    }
   ],
   "source": [
    "conf_matrix3b = confusion_matrix(y_train3b, y_pred3b)\n",
    "\n",
    "plt.figure(figsize=(5, 4))\n",
    "sns.heatmap(conf_matrix3a, annot=True, fmt='d', cmap='Greens', cbar=False,\n",
    "            xticklabels=['No Problems', 'Problems'],\n",
    "            yticklabels=['No Problems', 'Problems'])\n",
    "plt.xlabel('Predicted Health')\n",
    "plt.ylabel('Actual Health')\n",
    "plt.title('Problems Classification Model')\n",
    "plt.show()"
   ]
  },
  {
   "cell_type": "markdown",
   "metadata": {},
   "source": [
    "##### No material change between ridge and lasso penalties, will stick with lasso for simplicity. Checking cross-validation as a final measure"
   ]
  },
  {
   "cell_type": "code",
   "execution_count": 64,
   "metadata": {},
   "outputs": [
    {
     "ename": "TypeError",
     "evalue": "train_process() missing 2 required positional arguments: 'ohex' and 'ssx'",
     "output_type": "error",
     "traceback": [
      "\u001b[1;31m---------------------------------------------------------------------------\u001b[0m",
      "\u001b[1;31mTypeError\u001b[0m                                 Traceback (most recent call last)",
      "\u001b[1;32m<ipython-input-64-93cd095baded>\u001b[0m in \u001b[0;36m<module>\u001b[1;34m\u001b[0m\n\u001b[0;32m      6\u001b[0m \u001b[1;33m\u001b[0m\u001b[0m\n\u001b[0;32m      7\u001b[0m \u001b[1;31m#run the processing functions:\u001b[0m\u001b[1;33m\u001b[0m\u001b[1;33m\u001b[0m\u001b[1;33m\u001b[0m\u001b[0m\n\u001b[1;32m----> 8\u001b[1;33m \u001b[0mX_train_df3d\u001b[0m \u001b[1;33m=\u001b[0m \u001b[0mtrain_process\u001b[0m\u001b[1;33m(\u001b[0m\u001b[0mX_train3a\u001b[0m\u001b[1;33m,\u001b[0m \u001b[0mcategorical3\u001b[0m\u001b[1;33m,\u001b[0m \u001b[0mnumeric3\u001b[0m\u001b[1;33m,\u001b[0m \u001b[0mclassifiers3\u001b[0m\u001b[1;33m)\u001b[0m\u001b[1;33m\u001b[0m\u001b[1;33m\u001b[0m\u001b[0m\n\u001b[0m\u001b[0;32m      9\u001b[0m \u001b[0mX_test_df3d\u001b[0m \u001b[1;33m=\u001b[0m \u001b[0mtest_process\u001b[0m\u001b[1;33m(\u001b[0m\u001b[0mX_test3a\u001b[0m\u001b[1;33m,\u001b[0m \u001b[0mcategorical3\u001b[0m\u001b[1;33m,\u001b[0m \u001b[0mnumeric3\u001b[0m\u001b[1;33m,\u001b[0m \u001b[0mclassifiers3\u001b[0m\u001b[1;33m)\u001b[0m\u001b[1;33m\u001b[0m\u001b[1;33m\u001b[0m\u001b[0m\n\u001b[0;32m     10\u001b[0m \u001b[1;33m\u001b[0m\u001b[0m\n",
      "\u001b[1;31mTypeError\u001b[0m: train_process() missing 2 required positional arguments: 'ohex' and 'ssx'"
     ]
    }
   ],
   "source": [
    "#check cross-validation\n",
    "log3d = LogisticRegression(max_iter=10000)\n",
    "\n",
    "#do a train-test split\n",
    "X_train3d, X_test3d, y_train3d, y_test3d = train_test_split(X3, y3, test_size=0.2, random_state=53)\n",
    "\n",
    "#run the processing functions:\n",
    "X_train_df3d = train_process(X_train3a, categorical3, numeric3, classifiers3)\n",
    "X_test_df3d = test_process(X_test3a, categorical3, numeric3, classifiers3)\n",
    "\n",
    "#5-fold cross-validation\n",
    "log3d = LogisticRegression(max_iter=10000, n_jobs=8, C=100)\n",
    "scores = cross_validate(log3d, X_train_df3d, y_train3d, cv=5, n_jobs=8)\n",
    "\n",
    "# Print cross-validation scores and mean score\n",
    "print(\"Cross-Validation Scores:\", scores)\n",
    "print(\"Mean Accuracy: {:.2f}\".format(scores.mean()))"
   ]
  },
  {
   "cell_type": "markdown",
   "metadata": {},
   "source": [
    "### Try a Decision Tree classifier on model #3"
   ]
  },
  {
   "cell_type": "code",
   "execution_count": null,
   "metadata": {},
   "outputs": [],
   "source": [
    "tree_df = log_df3.copy()"
   ]
  },
  {
   "cell_type": "code",
   "execution_count": null,
   "metadata": {},
   "outputs": [],
   "source": [
    "# Convert 'None' strings to a unique label using LabelEncoder\n",
    "label_encoder = LabelEncoder()\n",
    "\n",
    "# Apply label encoding to each column in the DataFrame\n",
    "for column in tree_df.columns:\n",
    "    if tree_df[column].dtype == 'O':  # Check if the column contains object (string) data type\n",
    "        tree_df[column] = label_encoder.fit_transform(tree_df[column])"
   ]
  },
  {
   "cell_type": "code",
   "execution_count": null,
   "metadata": {},
   "outputs": [],
   "source": [
    "#define the X and y variables\n",
    "X4 = tree_df.drop(target3, axis=1)\n",
    "y4 = tree_df[target3]\n",
    "\n",
    "#do a train-test split\n",
    "X_train4, X_test4, y_train4, y_test4 = train_test_split(X4, y4, test_size=0.2, random_state=53)\n",
    "\n",
    "tree_clf = DecisionTreeClassifier(criterion = 'gini', max_depth=5, random_state=53)\n",
    "\n",
    "tree_clf.fit(X_train4, y_train4)"
   ]
  },
  {
   "cell_type": "code",
   "execution_count": null,
   "metadata": {},
   "outputs": [],
   "source": [
    "X_train4.shape"
   ]
  },
  {
   "cell_type": "code",
   "execution_count": null,
   "metadata": {},
   "outputs": [],
   "source": [
    "f, ax = plt.subplots(figsize=(10, 10))\n",
    "plot_tree(tree_clf, ax=ax);"
   ]
  },
  {
   "cell_type": "code",
   "execution_count": null,
   "metadata": {},
   "outputs": [],
   "source": [
    "y_pred4 = tree_clf.predict(X_train4)\n",
    "acc4 = accuracy_score(y_train4, y_pred4)\n",
    "recall4 = recall_score(y_train4, y_pred4)"
   ]
  },
  {
   "cell_type": "code",
   "execution_count": null,
   "metadata": {},
   "outputs": [],
   "source": [
    "y_pred4 = tree_clf.predict(X_train4)\n",
    "y_pred4"
   ]
  },
  {
   "cell_type": "code",
   "execution_count": null,
   "metadata": {},
   "outputs": [],
   "source": [
    "acc = accuracy_score(y_train4, y_pred4) * 100\n",
    "rec4 = recall_score(y_train4, y_pred4)\n",
    "print(\"Accuracy: {0}\".format(acc))\n",
    "print(\"Recall: {0}\".format(rec4))"
   ]
  },
  {
   "cell_type": "code",
   "execution_count": null,
   "metadata": {},
   "outputs": [],
   "source": [
    "conf_matrix4 = confusion_matrix(y_train4, y_pred4)\n",
    "\n",
    "plt.figure(figsize=(5, 4))\n",
    "sns.heatmap(conf_matrix4, annot=True, fmt='d', cmap='Greens', cbar=False,\n",
    "            xticklabels=['No Problems', 'Problems'],\n",
    "            yticklabels=['No Problems', 'Problems'])\n",
    "plt.xlabel('Predicted Problems')\n",
    "plt.ylabel('Actual Problems')\n",
    "plt.title('Problems Classification Model')\n",
    "plt.show()"
   ]
  },
  {
   "cell_type": "markdown",
   "metadata": {},
   "source": [
    "## Conclusion: \n",
    "\n",
    "the tuned logistic regression model #3 produces the highest scores, lets take a look in summary:"
   ]
  },
  {
   "cell_type": "code",
   "execution_count": null,
   "metadata": {},
   "outputs": [],
   "source": [
    "scorestot = [('model1', acc1, recall1), ('model2', acc2, recall2), ('model3', acc3, recall3), ('model3a', acc3a, recall3a), \n",
    " ('model3b', acc3b, recall3b), ('model3c', acc3c, recall3c), ('model4', acc4, recall4)]\n",
    "for (name, x, y) in scorestot:\n",
    "    print(name+' accuracy: '+str(x)+' -----  recall: '+str(y))"
   ]
  },
  {
   "cell_type": "code",
   "execution_count": null,
   "metadata": {},
   "outputs": [],
   "source": [
    "#using model 3b, attempt to increase recall\n",
    "threshold = [0.45, 0.4, 0.35, 0.3, 0.25, 0.2]\n",
    "\n",
    "for x in threshold:\n",
    "    predictions = (prob3b[:, 1] > x).astype(int)\n",
    "    # Calculate accuracy using the adjusted threshold\n",
    "    accuracy_scores = accuracy_score(y_train3b, predictions)\n",
    "    recall_scores = recall_score(y_train3b, predictions)\n",
    "    precision_scores = precision_score(y_train3b, predictions)\n",
    "    print(\"Accuracy with adjusted threshold of \"+str(x)+\": {:.2f}\".format(accuracy_scores))\n",
    "    print(\"Recall with adjusted threshold of \"+str(x)+\": {:.2f}\".format(recall_scores))\n",
    "    print(\"Precision with adjusted threshold of \"+str(x)+\": {:.2f}\".format(precision_scores))\n",
    "    print('----------------')"
   ]
  },
  {
   "cell_type": "markdown",
   "metadata": {},
   "source": [
    "Ok, lowering the threshold keeps accuracy relatively stable, and increases recall, but lowers precision. this is intuitive. So we are going to run the model one last time with a threshold of 0.35 to maintain an \"A+\" precision, while raising recall:"
   ]
  },
  {
   "cell_type": "code",
   "execution_count": null,
   "metadata": {},
   "outputs": [],
   "source": [
    "#time to run through the test data!\n",
    "# Predict the target class based on p > 0.5 criteria\n",
    "y_pred3bFINAL = clf3b.predict(X_test_df3b)\n",
    "\n",
    "# Predict the probability with the training data set\n",
    "prob3bFINAL = clf3b.predict_proba(X_test_df3b)\n",
    "\n",
    "# Calculate the model fit\n",
    "acc3bFINAL = clf3b.score(X_test_df3b, y_test3b)\n",
    "\n",
    "recall3bFINAL = recall_score(y_test3b, y_pred3bFINAL)\n",
    "print('accuracy: '+str(acc3bFINAL)+' -----  recall: '+str(recall3bFINAL))"
   ]
  },
  {
   "cell_type": "code",
   "execution_count": null,
   "metadata": {},
   "outputs": [],
   "source": [
    "#get final y_pred's on a 0.2 threshold:\n",
    "y_pred3b_final = (prob3bFINAL[:, 1] > 0.35).astype(int)\n",
    "conf_matrix3b_final = confusion_matrix(y_test3b, y_pred3b_final)\n",
    "\n",
    "#creating the confusion matrix\n",
    "plt.figure(figsize=(5, 4))\n",
    "sns.heatmap(conf_matrix3b_final, annot=True, fmt=',', cmap='Greens', cbar=False,\n",
    "            xticklabels=['No Problems', 'Problems'],\n",
    "            yticklabels=['No Problems', 'Problems'])\n",
    "plt.xlabel('Predicted')\n",
    "plt.ylabel('Actual')\n",
    "plt.title('Problems Classification Model')\n",
    "plt.show()"
   ]
  },
  {
   "cell_type": "code",
   "execution_count": null,
   "metadata": {},
   "outputs": [],
   "source": [
    "#find the column with the highest weight\n",
    "X_train_df3b.columns[np.argmax(np.abs(clf3b.coef_))]"
   ]
  },
  {
   "cell_type": "code",
   "execution_count": null,
   "metadata": {},
   "outputs": [],
   "source": []
  }
 ],
 "metadata": {
  "kernelspec": {
   "display_name": "Python (learn-env)",
   "language": "python",
   "name": "learn-env"
  },
  "language_info": {
   "codemirror_mode": {
    "name": "ipython",
    "version": 3
   },
   "file_extension": ".py",
   "mimetype": "text/x-python",
   "name": "python",
   "nbconvert_exporter": "python",
   "pygments_lexer": "ipython3",
   "version": "3.8.5"
  }
 },
 "nbformat": 4,
 "nbformat_minor": 4
}
